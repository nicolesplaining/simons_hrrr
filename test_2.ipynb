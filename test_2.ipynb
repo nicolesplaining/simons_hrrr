{
 "cells": [
  {
   "cell_type": "code",
   "execution_count": 2,
   "metadata": {},
   "outputs": [],
   "source": [
    "import numpy as np\n",
    "from netCDF4 import Dataset\n",
    "import glob\n",
    "import math\n",
    "from scipy.interpolate import interp1d\n",
    "\n",
    "# Function to rotate wind components\n",
    "# def rotate_winds(u, v, rot_grid):\n",
    "#     u_rot = np.zeros_like(u)\n",
    "#     v_rot = np.zeros_like(v)\n",
    "#     for z in range(u.shape[0]):\n",
    "#         v_rot[z, :, :] = np.cos(rot_grid) * v[z, :, :] - np.sin(rot_grid) * u[z, :, :]\n",
    "#         u_rot[z, :, :] = np.sin(rot_grid) * v[z, :, :] + np.cos(rot_grid) * u[z, :, :]\n",
    "#     return u_rot, v_rot\n",
    "\n",
    "# Function to interpolate 3D data to a given lat/lon point\n",
    "def interpolate_to_point(lat_grid, lon_grid, data_3d, lat_point, lon_point):\n",
    "    from scipy.interpolate import griddata\n",
    "    points = np.column_stack((lat_grid.ravel(), lon_grid.ravel()))\n",
    "    data_interp = np.zeros((data_3d.shape[0],))\n",
    "    for z in range(data_3d.shape[0]):\n",
    "        values = data_3d[z, :, :].ravel()\n",
    "        data_interp[z] = griddata(points, values, (lat_point, lon_point), method='linear')\n",
    "    return data_interp\n"
   ]
  },
  {
   "cell_type": "code",
   "execution_count": 5,
   "metadata": {},
   "outputs": [],
   "source": [
    "# Latitude and longitude point to interpolate to\n",
    "LATpoint = 39.969\n",
    "LONpoint = -72.717\n",
    "\n",
    "iz = np.arange(0, 5, 1)  # Range of indices to extract from the 3D data\n",
    "zo = np.linspace(20.0, 200.0, 10)  # Altitudes to interpolate to\n",
    "\n",
    "# List of HRRR analysis files\n",
    "flist = sorted(glob.glob('/Volumes/hrrr/full/*.nc'))"
   ]
  },
  {
   "cell_type": "code",
   "execution_count": null,
   "metadata": {},
   "outputs": [],
   "source": [
    "\n",
    "for n, file in enumerate(flist):\n",
    "    with Dataset(file, 'r') as nc:\n",
    "        Z3D = nc.variables['HGT'][iz, :, :]\n",
    "        U3Do = nc.variables['UGRD'][iz, :, :]\n",
    "        V3Do = nc.variables['VGRD'][iz, :, :]\n",
    "\n",
    "        # Rotate winds\n",
    "        #U3D, V3D = rotate_winds(U3Do, V3Do, ROTgrid)\n",
    "\n",
    "        # Interpolate to the desired lat/lon point\n",
    "        Upoint[n, :] = interpolate_to_point(LATgrid, LONgrid, U3Do, LATpoint, LONpoint)\n",
    "        Vpoint[n, :] = interpolate_to_point(LATgrid, LONgrid, V3Do, LATpoint, LONpoint)\n",
    "        Zpoint[n, :] = interpolate_to_point(LATgrid, LONgrid, Z3D, LATpoint, LONpoint)\n",
    "        print(n)"
   ]
  },
  {
   "cell_type": "code",
   "execution_count": null,
   "metadata": {},
   "outputs": [],
   "source": [
    "# Vertical interpolation\n",
    "Upoint_z = np.array([interp1d(Zpoint[n, :], Upoint[n, :], kind='linear')(zo) for n in range(Nt)])\n",
    "Vpoint_z = np.array([interp1d(Zpoint[n, :], Vpoint[n, :], kind='linear')(zo) for n in range(Nt)])"
   ]
  },
  {
   "cell_type": "code",
   "execution_count": null,
   "metadata": {},
   "outputs": [],
   "source": [
    "\n",
    "# Save results to a new NetCDF file\n",
    "with Dataset(\"HRRR_point_interp2Z.nc\", \"w\", format=\"NETCDF4\") as fout:\n",
    "    fout.createDimension('time', Nt)\n",
    "    fout.createDimension('altitude', len(zo))\n",
    "\n",
    "    times = fout.createVariable('time', 'f4', ('time',))\n",
    "    altitudes = fout.createVariable('altitude', 'f4', ('altitude',))\n",
    "\n",
    "    times[:] = np.arange(Nt)\n",
    "    altitudes[:] = zo\n",
    "\n",
    "    u_point = fout.createVariable('Upoint', 'f4', ('time', 'altitude'))\n",
    "    v_point = fout.createVariable('Vpoint', 'f4', ('time', 'altitude'))\n",
    "    z_point = fout.createVariable('Zpoint', 'f4', ('time', 'altitude'))\n",
    "    u_point_z = fout.createVariable('Upoint_z', 'f4', ('time', 'altitude'))\n",
    "    v_point_z = fout.createVariable('Vpoint_z', 'f4', ('time', 'altitude'))\n",
    "\n",
    "    u_point[:] = Upoint\n",
    "    v_point[:] = Vpoint\n",
    "    z_point[:] = Zpoint\n",
    "    u_point_z[:] = Upoint_z\n",
    "    v_point_z[:] = Vpoint_z\n",
    "\n",
    "print(\"done\")"
   ]
  }
 ],
 "metadata": {
  "kernelspec": {
   "display_name": "Python 3",
   "language": "python",
   "name": "python3"
  },
  "language_info": {
   "codemirror_mode": {
    "name": "ipython",
    "version": 3
   },
   "file_extension": ".py",
   "mimetype": "text/x-python",
   "name": "python",
   "nbconvert_exporter": "python",
   "pygments_lexer": "ipython3",
   "version": "3.11.4"
  }
 },
 "nbformat": 4,
 "nbformat_minor": 2
}
