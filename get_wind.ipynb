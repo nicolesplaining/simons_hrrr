{
 "cells": [
  {
   "cell_type": "code",
   "execution_count": 1,
   "metadata": {},
   "outputs": [],
   "source": [
    "import xarray as xr\n",
    "import numpy as np\n",
    "import cartopy.crs as ccrs\n",
    "import warnings\n",
    "import pandas as pd"
   ]
  },
  {
   "cell_type": "code",
   "execution_count": 2,
   "metadata": {},
   "outputs": [],
   "source": [
    "cf_attrs = {\n",
    "    'grid_mapping_name': 'lambert_conformal_conic',\n",
    "    'standard_parallel': 38.5,\n",
    "    'longitude_of_central_meridian': -97.5,\n",
    "    'latitude_of_projection_origin': 38.5,\n",
    "    'earth_radius': 6371229.0\n",
    "}\n",
    "\n",
    "point_lon = -72.717\n",
    "point_lat = 39.969 \n",
    "\n",
    "projection = ccrs.LambertConformal(central_longitude=262.5, \n",
    "                                   central_latitude=38.5, \n",
    "                                   standard_parallels=(38.5, 38.5),\n",
    "                                    globe=ccrs.Globe(semimajor_axis=6371229,\n",
    "                                                     semiminor_axis=6371229))\n",
    "\n",
    "x, y = projection.transform_point(point_lon, point_lat, ccrs.PlateCarree())\n",
    "\n",
    "warnings.filterwarnings('ignore') "
   ]
  },
  {
   "cell_type": "code",
   "execution_count": 3,
   "metadata": {},
   "outputs": [],
   "source": [
    "df_ws = pd.DataFrame(columns = ['Intial','Forecast','20m','40m','60m','80m','100m','120m','140m','160m','180m','200m'])"
   ]
  },
  {
   "cell_type": "code",
   "execution_count": 4,
   "metadata": {},
   "outputs": [],
   "source": [
    "def get_wind(path):\n",
    "    og = xr.open_dataset(path,engine='cfgrib',backend_kwargs=dict(filter_by_keys={'typeOfLevel': 'hybrid'}))\n",
    "    ds = og.metpy.assign_crs(cf_attrs).metpy.assign_y_x()\n",
    "    ds_2 = ds.sel(y=y,x=x,method='nearest')\n",
    "    # ds_3 = ds_2.drop_vars(['clwmr','unknown','rwmr','snmr','grle'])\n",
    "    ds_3 = ds_2.sel(hybrid=[1,2,3,4,5])\n",
    "    ws = np.sqrt(np.add(ds_3['u'].to_numpy() ** 2,ds_3['v'].to_numpy()** 2))\n",
    "    ds_3['ws'] = xr.DataArray(ws)\n",
    "    ws_interp = np.interp(x=np.arange(20,220,20),xp=ds_3['gh'].to_numpy(),fp=ds_3['ws'].to_numpy())\n",
    "    test_l = [str(ds_3.time.to_numpy())[:13],int(ds_3.step.to_numpy()) / 3.6000E+12]\n",
    "    test_l2 = test_l + list(ws_interp)\n",
    "    #print(test_l2)\n",
    "    df_ws.loc[len(df_ws)] = test_l2\n",
    "    #return test_l2"
   ]
  },
  {
   "cell_type": "code",
   "execution_count": 5,
   "metadata": {},
   "outputs": [],
   "source": [
    "get_wind(\"/Users/nicolema/Downloads/hrrr.t00z.wrfnatf00.grib2\")"
   ]
  },
  {
   "cell_type": "code",
   "execution_count": 6,
   "metadata": {},
   "outputs": [],
   "source": [
    "get_wind(\"/Users/nicolema/Downloads/hrrr.t23z.wrfnatf00.grib2\")"
   ]
  },
  {
   "cell_type": "code",
   "execution_count": 7,
   "metadata": {},
   "outputs": [],
   "source": [
    "get_wind(\"/Users/nicolema/Downloads/hrrr.t23z.wrfnatf06.grib2\")"
   ]
  },
  {
   "cell_type": "code",
   "execution_count": 8,
   "metadata": {},
   "outputs": [
    {
     "data": {
      "text/html": [
       "<div>\n",
       "<style scoped>\n",
       "    .dataframe tbody tr th:only-of-type {\n",
       "        vertical-align: middle;\n",
       "    }\n",
       "\n",
       "    .dataframe tbody tr th {\n",
       "        vertical-align: top;\n",
       "    }\n",
       "\n",
       "    .dataframe thead th {\n",
       "        text-align: right;\n",
       "    }\n",
       "</style>\n",
       "<table border=\"1\" class=\"dataframe\">\n",
       "  <thead>\n",
       "    <tr style=\"text-align: right;\">\n",
       "      <th></th>\n",
       "      <th>Intial</th>\n",
       "      <th>Forecast</th>\n",
       "      <th>20m</th>\n",
       "      <th>40m</th>\n",
       "      <th>60m</th>\n",
       "      <th>80m</th>\n",
       "      <th>100m</th>\n",
       "      <th>120m</th>\n",
       "      <th>140m</th>\n",
       "      <th>160m</th>\n",
       "      <th>180m</th>\n",
       "      <th>200m</th>\n",
       "    </tr>\n",
       "  </thead>\n",
       "  <tbody>\n",
       "    <tr>\n",
       "      <th>0</th>\n",
       "      <td>2021-05-14T00</td>\n",
       "      <td>0.0</td>\n",
       "      <td>3.560813</td>\n",
       "      <td>4.292114</td>\n",
       "      <td>4.338825</td>\n",
       "      <td>4.385536</td>\n",
       "      <td>4.270756</td>\n",
       "      <td>4.042478</td>\n",
       "      <td>3.814200</td>\n",
       "      <td>3.585921</td>\n",
       "      <td>3.343039</td>\n",
       "      <td>3.085041</td>\n",
       "    </tr>\n",
       "    <tr>\n",
       "      <th>1</th>\n",
       "      <td>2021-05-14T23</td>\n",
       "      <td>0.0</td>\n",
       "      <td>5.021877</td>\n",
       "      <td>6.324613</td>\n",
       "      <td>6.393904</td>\n",
       "      <td>6.463195</td>\n",
       "      <td>6.358967</td>\n",
       "      <td>6.126736</td>\n",
       "      <td>5.894504</td>\n",
       "      <td>5.662273</td>\n",
       "      <td>5.543627</td>\n",
       "      <td>5.566392</td>\n",
       "    </tr>\n",
       "    <tr>\n",
       "      <th>2</th>\n",
       "      <td>2021-05-14T23</td>\n",
       "      <td>6.0</td>\n",
       "      <td>7.138263</td>\n",
       "      <td>9.973102</td>\n",
       "      <td>10.391957</td>\n",
       "      <td>10.810811</td>\n",
       "      <td>11.113667</td>\n",
       "      <td>11.338983</td>\n",
       "      <td>11.564300</td>\n",
       "      <td>11.789616</td>\n",
       "      <td>11.813524</td>\n",
       "      <td>11.632470</td>\n",
       "    </tr>\n",
       "  </tbody>\n",
       "</table>\n",
       "</div>"
      ],
      "text/plain": [
       "          Intial  Forecast       20m       40m        60m        80m  \\\n",
       "0  2021-05-14T00       0.0  3.560813  4.292114   4.338825   4.385536   \n",
       "1  2021-05-14T23       0.0  5.021877  6.324613   6.393904   6.463195   \n",
       "2  2021-05-14T23       6.0  7.138263  9.973102  10.391957  10.810811   \n",
       "\n",
       "        100m       120m       140m       160m       180m       200m  \n",
       "0   4.270756   4.042478   3.814200   3.585921   3.343039   3.085041  \n",
       "1   6.358967   6.126736   5.894504   5.662273   5.543627   5.566392  \n",
       "2  11.113667  11.338983  11.564300  11.789616  11.813524  11.632470  "
      ]
     },
     "execution_count": 8,
     "metadata": {},
     "output_type": "execute_result"
    }
   ],
   "source": [
    "df_ws"
   ]
  }
 ],
 "metadata": {
  "kernelspec": {
   "display_name": "Python 3",
   "language": "python",
   "name": "python3"
  },
  "language_info": {
   "codemirror_mode": {
    "name": "ipython",
    "version": 3
   },
   "file_extension": ".py",
   "mimetype": "text/x-python",
   "name": "python",
   "nbconvert_exporter": "python",
   "pygments_lexer": "ipython3",
   "version": "3.11.4"
  }
 },
 "nbformat": 4,
 "nbformat_minor": 2
}
